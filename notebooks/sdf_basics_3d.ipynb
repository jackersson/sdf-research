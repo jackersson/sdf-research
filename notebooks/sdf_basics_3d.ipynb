{
 "cells": [
  {
   "cell_type": "code",
   "execution_count": 1,
   "metadata": {},
   "outputs": [],
   "source": [
    "import os\n",
    "import sys\n",
    "import glob\n",
    "import numpy as np\n",
    "import random\n",
    "import typing as typ\n",
    "from copy import deepcopy\n",
    "import datetime"
   ]
  },
  {
   "cell_type": "code",
   "execution_count": 2,
   "metadata": {},
   "outputs": [],
   "source": [
    "import torch\n",
    "import torch.utils.data\n",
    "import torch.nn as nn\n",
    "import torch.nn.functional as F\n",
    "import torchsummary"
   ]
  },
  {
   "cell_type": "code",
   "execution_count": 3,
   "metadata": {},
   "outputs": [],
   "source": [
    "from livelossplot import PlotLosses"
   ]
  },
  {
   "cell_type": "code",
   "execution_count": 4,
   "metadata": {},
   "outputs": [
    {
     "data": {
      "text/plain": [
       "<torch._C.Generator at 0x7f6dd16277d0>"
      ]
     },
     "execution_count": 4,
     "metadata": {},
     "output_type": "execute_result"
    }
   ],
   "source": [
    "np.random.seed(0)\n",
    "torch.manual_seed(0)"
   ]
  },
  {
   "cell_type": "code",
   "execution_count": 5,
   "metadata": {},
   "outputs": [],
   "source": [
    "# sys.path.insert(0, \"../mesh_to_sdf\")\n",
    "sys.path.insert(0, \"../\")"
   ]
  },
  {
   "cell_type": "code",
   "execution_count": 25,
   "metadata": {},
   "outputs": [],
   "source": [
    "from deep_sdf.networks.deep_sdf_decoder import Decoder\n",
    "from deep_sdf.utils.data import SDFSamples, list_files\n",
    "from deep_sdf.utils.lr_schedule import StepLearningRateSchedule\n",
    "from deep_sdf.utils.mesh import create_mesh\n",
    "from deep_sdf.utils.metrics import compute_trimesh_chamfer"
   ]
  },
  {
   "cell_type": "code",
   "execution_count": 7,
   "metadata": {},
   "outputs": [],
   "source": [
    "# import mesh_to_sdf as msdf\n",
    "import trimesh\n",
    "import pyrender\n",
    "import skimage.measure\n",
    "import k3d\n",
    "import matplotlib\n",
    "import plyfile\n",
    "import skimage.measure\n",
    "import time"
   ]
  },
  {
   "cell_type": "markdown",
   "metadata": {},
   "source": [
    "### Working directories"
   ]
  },
  {
   "cell_type": "code",
   "execution_count": 21,
   "metadata": {},
   "outputs": [
    {
     "name": "stdout",
     "output_type": "stream",
     "text": [
      "../\n",
      "../experiments/baseline\n",
      "../data/planes_sample\n",
      "../experiments/baseline/splits\n",
      "../experiments/baseline/reconstruction\n",
      "../experiments/baseline/data/plane/visible_surface\n",
      "../experiments/baseline/data/plane/test\n",
      "../experiments/baseline/data/plane/train\n",
      "plane\n"
     ]
    }
   ],
   "source": [
    "ROOT = \"../\"\n",
    "EXPERIMENTS_DIR = os.path.join(ROOT, \"experiments\", \"baseline\")\n",
    "DATA_MESH_DIR = os.path.join(ROOT, \"data\", \"planes_sample\")\n",
    "DATA_SPLITS_DIR = os.path.join(EXPERIMENTS_DIR, \"splits\")\n",
    "RECONSTRUCTION_DIR = os.path.join(EXPERIMENTS_DIR, \"reconstruction\")\n",
    "CLASS_NAME = 'plane' \n",
    "SAMPLED_VISIBLE_MESH_SURFACE_DIR = os.path.join(EXPERIMENTS_DIR, \"data\", CLASS_NAME, \"visible_surface\")\n",
    "TEST_DIR = os.path.join(EXPERIMENTS_DIR, \"data\", CLASS_NAME, \"test\")\n",
    "TRAIN_DIR = os.path.join(EXPERIMENTS_DIR, \"data\", CLASS_NAME, \"train\")\n",
    "\n",
    "os.makedirs(DATA_SPLITS_DIR, exist_ok=True)\n",
    "\n",
    "print(ROOT)\n",
    "print(EXPERIMENTS_DIR)\n",
    "print(DATA_MESH_DIR)\n",
    "print(DATA_SPLITS_DIR)\n",
    "print(RECONSTRUCTION_DIR)\n",
    "print(SAMPLED_VISIBLE_MESH_SURFACE_DIR)\n",
    "print(TEST_DIR)\n",
    "print(TRAIN_DIR)\n",
    "print(CLASS_NAME)"
   ]
  },
  {
   "cell_type": "code",
   "execution_count": 9,
   "metadata": {},
   "outputs": [],
   "source": [
    "def get_color(value: float, palette: str = \"RdBu\"):\n",
    "    cmap = matplotlib.cm.get_cmap(\"RdBu\")\n",
    "    return int(matplotlib.colors.rgb2hex(cmap(value * 2.0)[:3]).replace(\"#\", ''), 16)\n",
    "\n",
    "def plot_sdf_3d(data: np.ndarray, size: float = 1e-2):\n",
    "    \"\"\"\n",
    "    :param data: Nx4 [x, y, z, sdf]\n",
    "    \"\"\"\n",
    "    plot = k3d.plot()\n",
    "    colors = np.array(list(map(get_color, data[:, -1])), dtype=np.uint32)\n",
    "    plot += k3d.points(data[:, :-1], colors=colors, point_size=size)\n",
    "    plot.display()"
   ]
  },
  {
   "cell_type": "code",
   "execution_count": 10,
   "metadata": {},
   "outputs": [],
   "source": [
    "def is_cuda(model: torch.nn.Module) -> bool:\n",
    "    \"\"\"\n",
    "    https://discuss.pytorch.org/t/how-to-check-if-model-is-on-cuda/180\n",
    "    \"\"\"\n",
    "    return next(model.parameters()).is_cuda"
   ]
  },
  {
   "cell_type": "markdown",
   "metadata": {},
   "source": [
    "### Model Config\n",
    "- **TODO**: make from yaml file"
   ]
  },
  {
   "cell_type": "code",
   "execution_count": 11,
   "metadata": {},
   "outputs": [],
   "source": [
    "NUM_LAYERS = 8\n",
    "NUM_NEURONS = 512\n",
    "\n",
    "# initialize model\n",
    "# https://github.com/facebookresearch/DeepSDF/blob/master/examples/chairs/specs.json\n",
    "CONFIG = {\n",
    "    \"two_d\": False,\n",
    "    \"latent_size\": 0, \n",
    "    \"dims\": [512] * 8,                       # [NUM_NEURONS] * NUM_LAYERS\n",
    "    \"dropout\": [0, 1, 2, 3, 4, 5, 6, 7],     # list(range(0, NUM_LAYERS))\n",
    "    \"dropout_prob\": 0.2,\n",
    "    \"norm_layers\": [0, 1, 2, 3, 4, 5, 6, 7], # list(range(0, NUM_LAYERS))\n",
    "    \"latent_in\": [],\n",
    "    \"xyz_in_all\": False,\n",
    "    \"use_tanh\": False,\n",
    "    \"latent_dropout\": False,\n",
    "    \"weight_norm\": True\n",
    "}\n",
    "\n",
    "device = torch.device('cuda:0' if torch.cuda.is_available() else 'cpu')"
   ]
  },
  {
   "cell_type": "code",
   "execution_count": 16,
   "metadata": {},
   "outputs": [],
   "source": [
    "def save_model(filename: str, model: torch.nn.Module):\n",
    "    torch.save(model.state_dict(),  filename)\n",
    "    print(f\"Saved to {filename}\")\n",
    "\n",
    "def save_checkpoints(directory:str, epoch: int, model: torch.nn.Module):\n",
    "    save_model(os.path.join(directory, str(epoch) + \".pth\"), model)\n",
    "    \n",
    "def load_model(config: dict, filename: typ.Optional[str] = None, device: str = \"cpu\") -> torch.nn.Module:\n",
    "    model = Decoder(**config)\n",
    "    model = model.to(device)\n",
    "    if isinstance(filename, str):\n",
    "        if os.path.isfile(filename):\n",
    "            model.load_state_dict(torch.load(filename))\n",
    "        else:\n",
    "            print(f\"File not exists: {filename}\")\n",
    "    return model"
   ]
  },
  {
   "cell_type": "markdown",
   "metadata": {},
   "source": [
    "### DataLoaders"
   ]
  },
  {
   "cell_type": "code",
   "execution_count": 21,
   "metadata": {},
   "outputs": [],
   "source": [
    "NUM_SAMPLES_PER_SCENE = 16384 // 2  # \n",
    "NUM_SCENES_PER_BATCH = 2       # 64\n",
    "NUM_DATA_LOADER_WORKERS = 1   # 16"
   ]
  },
  {
   "cell_type": "code",
   "execution_count": 58,
   "metadata": {},
   "outputs": [
    {
     "name": "stdout",
     "output_type": "stream",
     "text": [
      "Train. Found 8 scenes\n",
      "Test. Found 3 scenes\n"
     ]
    }
   ],
   "source": [
    "npyfiles = list_files(os.path.join(EXPERIMENTS_DIR, \"data\", CLASS_NAME, \"train\"), \".npz\")\n",
    "train_dataset = SDFSamples(npyfiles, NUM_SAMPLES_PER_SCENE, load_ram=True)\n",
    "print(f\"Train. Found {len(train_dataset)} scenes\")\n",
    "\n",
    "npyfiles = list_files(os.path.join(EXPERIMENTS_DIR, \"data\", CLASS_NAME, \"test\"), \".npz\")\n",
    "test_dataset = SDFSamples(npyfiles, NUM_SAMPLES_PER_SCENE, load_ram=True)\n",
    "print(f\"Test. Found {len(test_dataset)} scenes\")"
   ]
  },
  {
   "cell_type": "code",
   "execution_count": 59,
   "metadata": {},
   "outputs": [],
   "source": [
    "# DataLoader:\n",
    "# https://pytorch.org/docs/stable/data.html#torch.utils.data.DataLoader\n",
    "train_loader = torch.utils.data.DataLoader(\n",
    "    train_dataset,\n",
    "    batch_size=NUM_SCENES_PER_BATCH,\n",
    "    shuffle=True,\n",
    "    num_workers=NUM_DATA_LOADER_WORKERS,\n",
    "    drop_last=True,\n",
    ")\n",
    "\n",
    "test_loader = torch.utils.data.DataLoader(\n",
    "    train_dataset,\n",
    "    batch_size=NUM_SCENES_PER_BATCH,\n",
    "    shuffle=False,\n",
    "    num_workers=NUM_DATA_LOADER_WORKERS,\n",
    ")\n",
    "\n",
    "dataloaders = {\n",
    "    'train': train_loader,\n",
    "    'validation': test_loader,\n",
    "}"
   ]
  },
  {
   "cell_type": "code",
   "execution_count": 17,
   "metadata": {},
   "outputs": [],
   "source": [
    "MODEL_WEIGHTS = os.path.join(EXPERIMENTS_DIR, \"checkpoints/2020-07-01_20:58:02/100.pth\")  # initial model\n",
    "MODEL_WEIGHTS = os.path.join(EXPERIMENTS_DIR, \"checkpoints/2020-07-01_22:58:56/900.pth\")  # Best model\n",
    "# MODEL_WEIGHTS = None"
   ]
  },
  {
   "cell_type": "code",
   "execution_count": 18,
   "metadata": {},
   "outputs": [],
   "source": [
    "model = load_model(CONFIG, MODEL_WEIGHTS, device)"
   ]
  },
  {
   "cell_type": "markdown",
   "metadata": {},
   "source": [
    "### Training"
   ]
  },
  {
   "cell_type": "code",
   "execution_count": 64,
   "metadata": {},
   "outputs": [
    {
     "data": {
      "image/png": "[encoded data removed]",
      "text/plain": [
       "<Figure size 864x576 with 2 Axes>"
      ]
     },
     "metadata": {
      "needs_background": "light"
     },
     "output_type": "display_data"
    },
    {
     "name": "stdout",
     "output_type": "stream",
     "text": [
      "accuracy\n",
      "\taccuracy         \t (min:    0.476, max:    0.489, cur:    0.485)\n",
      "Loss\n",
      "\tloss             \t (min:    0.020, max:    0.021, cur:    0.020)\n"
     ]
    }
   ],
   "source": [
    "# example:\n",
    "# https://github.com/stared/livelossplot/blob/master/examples/pytorch.ipynb\n",
    "liveloss = PlotLosses()\n",
    "\n",
    "SDF_TOLERANCE = 1e-2\n",
    "\n",
    "model = model.to(device)\n",
    "\n",
    "epochs = 1000\n",
    "save_each = 100\n",
    "\n",
    "experiments_dir = os.path.join(EXPERIMENTS_DIR, \"checkpoints\",\n",
    "                               datetime.datetime.now().strftime(\"%Y-%m-%d_%H:%M:%S\"))\n",
    "os.makedirs(experiments_dir, exist_ok=True)\n",
    "\n",
    "# source: \n",
    "# https://github.com/facebookresearch/DeepSDF/blob/master/train_deep_sdf.py#L378\n",
    "# api: https://pytorch.org/docs/master/generated/torch.nn.L1Loss.html\n",
    "loss_l1 = torch.nn.L1Loss(reduction=\"sum\")\n",
    "\n",
    "# learning parameters:\n",
    "# https://github.com/facebookresearch/DeepSDF/blob/master/examples/chairs/specs.json#L23\n",
    "learning_rate = 0.0005 * 0.5**3 # initial\n",
    "learning_rate_schedule = StepLearningRateSchedule(initial=learning_rate, interval=500, factor=0.5)\n",
    "\n",
    "# api: https://pytorch.org/docs/stable/optim.html\n",
    "optimizer = torch.optim.Adam([\n",
    "    {\n",
    "        \"params\": model.parameters(),\n",
    "        \"lr\": learning_rate_schedule.get_learning_rate(0),\n",
    "    }\n",
    "])\n",
    "\n",
    "logs = {}\n",
    "for epoch in range(epochs):\n",
    "    logs = {}\n",
    "    \n",
    "    # update learning rate\n",
    "    # With constant learning rate plato observed\n",
    "    optimizer.param_groups[0][\"lr\"] = learning_rate_schedule.get_learning_rate(epoch)\n",
    "    \n",
    "    for phase in ['train']:\n",
    "        if phase == 'train':\n",
    "            model.train()\n",
    "        else:\n",
    "            model.eval()\n",
    "\n",
    "        running_loss = 0.0\n",
    "        running_corrects = 0\n",
    "        total_items = 0\n",
    "        for sdf_data, indices in dataloaders[phase]:\n",
    "            # sdf_data: torch.Tensor [2, NUM_SAMPLES_PER_SCENE, 4]\n",
    "            # indices: torch.Tensor  [2, ] ([0, 1])\n",
    "    \n",
    "            # Process the input data (remove first dimension)\n",
    "            sdf_data = sdf_data.reshape(-1, 4)  # [2 * NUM_SAMPLES_PER_SCENE, 4] \n",
    "            num_sdf_samples = sdf_data.shape[0]\n",
    "    \n",
    "            xyz = sdf_data[:, 0:3]  # [2 * NUM_SAMPLES_PER_SCENE, 3] \n",
    "    \n",
    "            num_sdf_samples = sdf_data.shape[0]\n",
    "\n",
    "            sdf_data.requires_grad = False\n",
    "            sdf_gt = sdf_data[:, 3].unsqueeze(1) # [2 * NUM_SAMPLES_PER_SCENE, 1] \n",
    "            \n",
    "            inputs = xyz.to(device)\n",
    "            labels = sdf_gt.to(device)\n",
    "            \n",
    "            outputs = model(inputs)     # [batch_size, 1]\n",
    "            \n",
    "            loss = F.l1_loss(outputs, labels)\n",
    "            \n",
    "            if phase == 'train':\n",
    "                optimizer.zero_grad()\n",
    "                loss.backward()\n",
    "                optimizer.step()\n",
    "                \n",
    "            running_loss += loss.detach() * inputs.size(0)\n",
    "            \n",
    "            abs_error = torch.abs(outputs - labels)\n",
    "            # assume correct SDF values wrt tolerance value\n",
    "            running_corrects += torch.sum(abs_error < SDF_TOLERANCE)\n",
    "            total_items += labels.shape[0]\n",
    "        epoch_loss = running_loss / total_items\n",
    "        epoch_acc = running_corrects.float() / total_items\n",
    "        \n",
    "        prefix = ''\n",
    "        if phase == 'validation':\n",
    "            prefix = 'val_'\n",
    "\n",
    "        logs[prefix + 'loss'] = epoch_loss.item()\n",
    "        logs[prefix + 'accuracy'] = epoch_acc.item()\n",
    "\n",
    "    if epoch % save_each == 0:\n",
    "        save_checkpoints(experiments_dir, epoch, model) \n",
    "        \n",
    "    liveloss.update(logs)\n",
    "    liveloss.send() "
   ]
  },
  {
   "cell_type": "code",
   "execution_count": 27,
   "metadata": {},
   "outputs": [],
   "source": [
    "def reconstruct(processed_mesh_filename: str, reconstructed_filename: str, model: torch.nn.Module):\n",
    "    processed_mesh = np.load(processed_mesh_filename)\n",
    "    processed_mesh = np.vstack((processed_mesh['neg'], processed_mesh['pos']))\n",
    "    \n",
    "    create_mesh(model, None, reconstructed_filename, max_batch=32**3)"
   ]
  },
  {
   "cell_type": "code",
   "execution_count": 29,
   "metadata": {},
   "outputs": [],
   "source": [
    "def reconstruct_all(processed_mesh_dir: str, reconstruction_dir: str):\n",
    "\n",
    "    test_processed_mesh = list_files(processed_mesh_dir, \".npz\")\n",
    "    for fl in test_processed_mesh:\n",
    "        filename = os.path.basename(fl).replace(\".npz\", \"\")\n",
    "        out_file = os.path.join(reconstruction_dir, filename)\n",
    "        reconstruct(fl, out_file, model)"
   ]
  },
  {
   "cell_type": "code",
   "execution_count": 30,
   "metadata": {},
   "outputs": [],
   "source": [
    "def evaluate(mesh_gt_filename: str, mesh_pred_filename: str) -> float:\n",
    "    \"\"\"\n",
    "    :param mesh_gt_filename: *.ply (Ground-truth mesh: SampleVisibleSurface)\n",
    "    :param mesh_pred_filename: *.ply (Predicted mesh: reconstruct)\n",
    "    \"\"\"\n",
    "    mesh_gt = trimesh.load(mesh_gt_filename)\n",
    "    norm_params = np.load(mesh_gt_filename.replace(\".ply\", \".npz\"))\n",
    "    mesh_pred = trimesh.load(filename_ + \".ply\")\n",
    "    \n",
    "    return compute_trimesh_chamfer(mesh_gt, mesh_pred, norm_params[\"offset\"], norm_params[\"scale\"])    "
   ]
  },
  {
   "cell_type": "code",
   "execution_count": null,
   "metadata": {},
   "outputs": [],
   "source": []
  },
  {
   "cell_type": "code",
   "execution_count": null,
   "metadata": {},
   "outputs": [],
   "source": []
  }
 ],
 "metadata": {
  "kernelspec": {
   "display_name": "sdf-research-venv",
   "language": "python",
   "name": "sdf-research-venv"
  },
  "language_info": {
   "codemirror_mode": {
    "name": "ipython",
    "version": 3
   },
   "file_extension": ".py",
   "mimetype": "text/x-python",
   "name": "python",
   "nbconvert_exporter": "python",
   "pygments_lexer": "ipython3",
   "version": "3.6.9"
  }
 },
 "nbformat": 4,
 "nbformat_minor": 4
}
